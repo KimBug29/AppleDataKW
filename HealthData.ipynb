{
 "cells": [
  {
   "cell_type": "markdown",
   "metadata": {},
   "source": [
    "<h1 style=\"font-size:3rm;color:green;\">Health Data Jupyter Notebook</h1>\n",
    "This notebook contains Kim's Apple Health Data for 2 years. Time period of June 1, 2020 - May 31, 2022."
   ]
  },
  {
   "cell_type": "markdown",
   "metadata": {},
   "source": [
    "<img src=kim-health-data.png>"
   ]
  },
  {
   "cell_type": "markdown",
   "metadata": {},
   "source": [
    "<h3 style=\"font-size:3rm;color:blue;\">Import Health Data</h3>\n",
    "Use of Pandas to import .csv file/data. Also import Seaborn and Numpy for additional data analysis."
   ]
  },
  {
   "cell_type": "code",
   "execution_count": 135,
   "metadata": {},
   "outputs": [
    {
     "data": {
      "text/html": [
       "<div>\n",
       "<style scoped>\n",
       "    .dataframe tbody tr th:only-of-type {\n",
       "        vertical-align: middle;\n",
       "    }\n",
       "\n",
       "    .dataframe tbody tr th {\n",
       "        vertical-align: top;\n",
       "    }\n",
       "\n",
       "    .dataframe thead th {\n",
       "        text-align: right;\n",
       "    }\n",
       "</style>\n",
       "<table border=\"1\" class=\"dataframe\">\n",
       "  <thead>\n",
       "    <tr style=\"text-align: right;\">\n",
       "      <th></th>\n",
       "      <th>Date</th>\n",
       "      <th>Active energy burned(Cal)</th>\n",
       "      <th>Apple Watch stand hours(hr)</th>\n",
       "      <th>Basal energy burned(Cal)</th>\n",
       "      <th>Exercise time(min)</th>\n",
       "      <th>Flights climbed(count)</th>\n",
       "      <th>Heart rate(count/min)</th>\n",
       "      <th>Resting heart rate(count/min)</th>\n",
       "      <th>Stand time(min)</th>\n",
       "      <th>Step count(count)</th>\n",
       "      <th>Walking heart rate average(count/min)</th>\n",
       "    </tr>\n",
       "  </thead>\n",
       "  <tbody>\n",
       "    <tr>\n",
       "      <th>0</th>\n",
       "      <td>2020-06</td>\n",
       "      <td>32562.605</td>\n",
       "      <td>519.0</td>\n",
       "      <td>70145.420</td>\n",
       "      <td>1771.0</td>\n",
       "      <td>40.470</td>\n",
       "      <td>83.686</td>\n",
       "      <td>57.467</td>\n",
       "      <td>5448.0</td>\n",
       "      <td>342345.273</td>\n",
       "      <td>108.483</td>\n",
       "    </tr>\n",
       "    <tr>\n",
       "      <th>1</th>\n",
       "      <td>2020-07</td>\n",
       "      <td>33837.342</td>\n",
       "      <td>506.0</td>\n",
       "      <td>72420.122</td>\n",
       "      <td>2026.0</td>\n",
       "      <td>98.171</td>\n",
       "      <td>85.217</td>\n",
       "      <td>58.065</td>\n",
       "      <td>5168.0</td>\n",
       "      <td>362907.978</td>\n",
       "      <td>108.806</td>\n",
       "    </tr>\n",
       "    <tr>\n",
       "      <th>2</th>\n",
       "      <td>2020-08</td>\n",
       "      <td>33936.205</td>\n",
       "      <td>480.0</td>\n",
       "      <td>70660.916</td>\n",
       "      <td>2185.0</td>\n",
       "      <td>150.113</td>\n",
       "      <td>85.162</td>\n",
       "      <td>60.188</td>\n",
       "      <td>4939.0</td>\n",
       "      <td>300141.779</td>\n",
       "      <td>102.565</td>\n",
       "    </tr>\n",
       "    <tr>\n",
       "      <th>3</th>\n",
       "      <td>2020-09</td>\n",
       "      <td>31957.453</td>\n",
       "      <td>477.0</td>\n",
       "      <td>68383.441</td>\n",
       "      <td>1904.0</td>\n",
       "      <td>232.420</td>\n",
       "      <td>88.482</td>\n",
       "      <td>60.733</td>\n",
       "      <td>5772.0</td>\n",
       "      <td>398573.937</td>\n",
       "      <td>114.017</td>\n",
       "    </tr>\n",
       "    <tr>\n",
       "      <th>4</th>\n",
       "      <td>2020-10</td>\n",
       "      <td>26645.052</td>\n",
       "      <td>470.0</td>\n",
       "      <td>67709.706</td>\n",
       "      <td>1455.0</td>\n",
       "      <td>69.000</td>\n",
       "      <td>76.347</td>\n",
       "      <td>57.677</td>\n",
       "      <td>3969.0</td>\n",
       "      <td>242276.382</td>\n",
       "      <td>97.016</td>\n",
       "    </tr>\n",
       "  </tbody>\n",
       "</table>\n",
       "</div>"
      ],
      "text/plain": [
       "      Date  Active energy burned(Cal)  Apple Watch stand hours(hr)  \\\n",
       "0  2020-06                  32562.605                        519.0   \n",
       "1  2020-07                  33837.342                        506.0   \n",
       "2  2020-08                  33936.205                        480.0   \n",
       "3  2020-09                  31957.453                        477.0   \n",
       "4  2020-10                  26645.052                        470.0   \n",
       "\n",
       "   Basal energy burned(Cal)  Exercise time(min)  Flights climbed(count)  \\\n",
       "0                 70145.420              1771.0                  40.470   \n",
       "1                 72420.122              2026.0                  98.171   \n",
       "2                 70660.916              2185.0                 150.113   \n",
       "3                 68383.441              1904.0                 232.420   \n",
       "4                 67709.706              1455.0                  69.000   \n",
       "\n",
       "   Heart rate(count/min)  Resting heart rate(count/min)  Stand time(min)  \\\n",
       "0                 83.686                         57.467           5448.0   \n",
       "1                 85.217                         58.065           5168.0   \n",
       "2                 85.162                         60.188           4939.0   \n",
       "3                 88.482                         60.733           5772.0   \n",
       "4                 76.347                         57.677           3969.0   \n",
       "\n",
       "   Step count(count)  Walking heart rate average(count/min)  \n",
       "0         342345.273                                108.483  \n",
       "1         362907.978                                108.806  \n",
       "2         300141.779                                102.565  \n",
       "3         398573.937                                114.017  \n",
       "4         242276.382                                 97.016  "
      ]
     },
     "execution_count": 135,
     "metadata": {},
     "output_type": "execute_result"
    }
   ],
   "source": [
    "import numpy as np\n",
    "import pandas as pd\n",
    "import seaborn as sns\n",
    "health_data_2year = pd.read_csv(\"Export_ActiveEnergyBurned.csv\")\n",
    "health_data_2year.head()"
   ]
  },
  {
   "cell_type": "code",
   "execution_count": 136,
   "metadata": {},
   "outputs": [
    {
     "data": {
      "text/plain": [
       "pandas.core.frame.DataFrame"
      ]
     },
     "execution_count": 136,
     "metadata": {},
     "output_type": "execute_result"
    }
   ],
   "source": [
    "#Object class\n",
    "type(health_data_2year)"
   ]
  },
  {
   "cell_type": "markdown",
   "metadata": {},
   "source": [
    "<h3 style=\"font-size:3rm;color:orange;\">Clean Data</h3>"
   ]
  },
  {
   "cell_type": "code",
   "execution_count": 137,
   "metadata": {},
   "outputs": [
    {
     "data": {
      "text/html": [
       "<div>\n",
       "<style scoped>\n",
       "    .dataframe tbody tr th:only-of-type {\n",
       "        vertical-align: middle;\n",
       "    }\n",
       "\n",
       "    .dataframe tbody tr th {\n",
       "        vertical-align: top;\n",
       "    }\n",
       "\n",
       "    .dataframe thead th {\n",
       "        text-align: right;\n",
       "    }\n",
       "</style>\n",
       "<table border=\"1\" class=\"dataframe\">\n",
       "  <thead>\n",
       "    <tr style=\"text-align: right;\">\n",
       "      <th></th>\n",
       "      <th>Date</th>\n",
       "      <th>Active energy burned(Cal)</th>\n",
       "      <th>Basal energy burned(Cal)</th>\n",
       "      <th>Exercise time(min)</th>\n",
       "      <th>Heart rate(count/min)</th>\n",
       "      <th>Resting heart rate(count/min)</th>\n",
       "      <th>Step count(count)</th>\n",
       "      <th>Walking heart rate average(count/min)</th>\n",
       "    </tr>\n",
       "  </thead>\n",
       "  <tbody>\n",
       "    <tr>\n",
       "      <th>0</th>\n",
       "      <td>2020-06</td>\n",
       "      <td>32562.605</td>\n",
       "      <td>70145.420</td>\n",
       "      <td>1771.0</td>\n",
       "      <td>83.686</td>\n",
       "      <td>57.467</td>\n",
       "      <td>342345.273</td>\n",
       "      <td>108.483</td>\n",
       "    </tr>\n",
       "    <tr>\n",
       "      <th>1</th>\n",
       "      <td>2020-07</td>\n",
       "      <td>33837.342</td>\n",
       "      <td>72420.122</td>\n",
       "      <td>2026.0</td>\n",
       "      <td>85.217</td>\n",
       "      <td>58.065</td>\n",
       "      <td>362907.978</td>\n",
       "      <td>108.806</td>\n",
       "    </tr>\n",
       "    <tr>\n",
       "      <th>2</th>\n",
       "      <td>2020-08</td>\n",
       "      <td>33936.205</td>\n",
       "      <td>70660.916</td>\n",
       "      <td>2185.0</td>\n",
       "      <td>85.162</td>\n",
       "      <td>60.188</td>\n",
       "      <td>300141.779</td>\n",
       "      <td>102.565</td>\n",
       "    </tr>\n",
       "    <tr>\n",
       "      <th>3</th>\n",
       "      <td>2020-09</td>\n",
       "      <td>31957.453</td>\n",
       "      <td>68383.441</td>\n",
       "      <td>1904.0</td>\n",
       "      <td>88.482</td>\n",
       "      <td>60.733</td>\n",
       "      <td>398573.937</td>\n",
       "      <td>114.017</td>\n",
       "    </tr>\n",
       "    <tr>\n",
       "      <th>4</th>\n",
       "      <td>2020-10</td>\n",
       "      <td>26645.052</td>\n",
       "      <td>67709.706</td>\n",
       "      <td>1455.0</td>\n",
       "      <td>76.347</td>\n",
       "      <td>57.677</td>\n",
       "      <td>242276.382</td>\n",
       "      <td>97.016</td>\n",
       "    </tr>\n",
       "  </tbody>\n",
       "</table>\n",
       "</div>"
      ],
      "text/plain": [
       "      Date  Active energy burned(Cal)  Basal energy burned(Cal)  \\\n",
       "0  2020-06                  32562.605                 70145.420   \n",
       "1  2020-07                  33837.342                 72420.122   \n",
       "2  2020-08                  33936.205                 70660.916   \n",
       "3  2020-09                  31957.453                 68383.441   \n",
       "4  2020-10                  26645.052                 67709.706   \n",
       "\n",
       "   Exercise time(min)  Heart rate(count/min)  Resting heart rate(count/min)  \\\n",
       "0              1771.0                 83.686                         57.467   \n",
       "1              2026.0                 85.217                         58.065   \n",
       "2              2185.0                 85.162                         60.188   \n",
       "3              1904.0                 88.482                         60.733   \n",
       "4              1455.0                 76.347                         57.677   \n",
       "\n",
       "   Step count(count)  Walking heart rate average(count/min)  \n",
       "0         342345.273                                108.483  \n",
       "1         362907.978                                108.806  \n",
       "2         300141.779                                102.565  \n",
       "3         398573.937                                114.017  \n",
       "4         242276.382                                 97.016  "
      ]
     },
     "execution_count": 137,
     "metadata": {},
     "output_type": "execute_result"
    }
   ],
   "source": [
    "#Clean data file to remove unnecessary columns related to stand time, stand time in hours and flights of stairs climbed.\n",
    "health_data_2year_dataframe = health_data_2year.drop(columns=['Apple Watch stand hours(hr)','Flights climbed(count)','Stand time(min)'])\n",
    "health_data_2year_dataframe.head()"
   ]
  },
  {
   "cell_type": "code",
   "execution_count": 138,
   "metadata": {},
   "outputs": [
    {
     "data": {
      "text/plain": [
       "Date                                      object\n",
       "Active energy burned(Cal)                float64\n",
       "Basal energy burned(Cal)                 float64\n",
       "Exercise time(min)                       float64\n",
       "Heart rate(count/min)                    float64\n",
       "Resting heart rate(count/min)            float64\n",
       "Step count(count)                        float64\n",
       "Walking heart rate average(count/min)    float64\n",
       "dtype: object"
      ]
     },
     "execution_count": 138,
     "metadata": {},
     "output_type": "execute_result"
    }
   ],
   "source": [
    "#Data classes in data frame\n",
    "health_data_2year_dataframe.dtypes"
   ]
  },
  {
   "cell_type": "code",
   "execution_count": 139,
   "metadata": {},
   "outputs": [
    {
     "data": {
      "text/html": [
       "<div>\n",
       "<style scoped>\n",
       "    .dataframe tbody tr th:only-of-type {\n",
       "        vertical-align: middle;\n",
       "    }\n",
       "\n",
       "    .dataframe tbody tr th {\n",
       "        vertical-align: top;\n",
       "    }\n",
       "\n",
       "    .dataframe thead th {\n",
       "        text-align: right;\n",
       "    }\n",
       "</style>\n",
       "<table border=\"1\" class=\"dataframe\">\n",
       "  <thead>\n",
       "    <tr style=\"text-align: right;\">\n",
       "      <th></th>\n",
       "      <th>Date</th>\n",
       "      <th>Active energy burned(Cal)</th>\n",
       "      <th>Apple Watch stand hours(hr)</th>\n",
       "      <th>Basal energy burned(Cal)</th>\n",
       "      <th>Exercise time(min)</th>\n",
       "      <th>Flights climbed(count)</th>\n",
       "      <th>Heart rate(count/min)</th>\n",
       "      <th>Resting heart rate(count/min)</th>\n",
       "      <th>Stand time(min)</th>\n",
       "      <th>Step count(count)</th>\n",
       "      <th>Walking heart rate average(count/min)</th>\n",
       "    </tr>\n",
       "  </thead>\n",
       "  <tbody>\n",
       "    <tr>\n",
       "      <th>0</th>\n",
       "      <td>2020-06</td>\n",
       "      <td>32563.0</td>\n",
       "      <td>519.0</td>\n",
       "      <td>70145.0</td>\n",
       "      <td>1771.0</td>\n",
       "      <td>40.0</td>\n",
       "      <td>84.0</td>\n",
       "      <td>57.0</td>\n",
       "      <td>5448.0</td>\n",
       "      <td>342345.0</td>\n",
       "      <td>108.0</td>\n",
       "    </tr>\n",
       "    <tr>\n",
       "      <th>1</th>\n",
       "      <td>2020-07</td>\n",
       "      <td>33837.0</td>\n",
       "      <td>506.0</td>\n",
       "      <td>72420.0</td>\n",
       "      <td>2026.0</td>\n",
       "      <td>98.0</td>\n",
       "      <td>85.0</td>\n",
       "      <td>58.0</td>\n",
       "      <td>5168.0</td>\n",
       "      <td>362908.0</td>\n",
       "      <td>109.0</td>\n",
       "    </tr>\n",
       "    <tr>\n",
       "      <th>2</th>\n",
       "      <td>2020-08</td>\n",
       "      <td>33936.0</td>\n",
       "      <td>480.0</td>\n",
       "      <td>70661.0</td>\n",
       "      <td>2185.0</td>\n",
       "      <td>150.0</td>\n",
       "      <td>85.0</td>\n",
       "      <td>60.0</td>\n",
       "      <td>4939.0</td>\n",
       "      <td>300142.0</td>\n",
       "      <td>103.0</td>\n",
       "    </tr>\n",
       "    <tr>\n",
       "      <th>3</th>\n",
       "      <td>2020-09</td>\n",
       "      <td>31957.0</td>\n",
       "      <td>477.0</td>\n",
       "      <td>68383.0</td>\n",
       "      <td>1904.0</td>\n",
       "      <td>232.0</td>\n",
       "      <td>88.0</td>\n",
       "      <td>61.0</td>\n",
       "      <td>5772.0</td>\n",
       "      <td>398574.0</td>\n",
       "      <td>114.0</td>\n",
       "    </tr>\n",
       "    <tr>\n",
       "      <th>4</th>\n",
       "      <td>2020-10</td>\n",
       "      <td>26645.0</td>\n",
       "      <td>470.0</td>\n",
       "      <td>67710.0</td>\n",
       "      <td>1455.0</td>\n",
       "      <td>69.0</td>\n",
       "      <td>76.0</td>\n",
       "      <td>58.0</td>\n",
       "      <td>3969.0</td>\n",
       "      <td>242276.0</td>\n",
       "      <td>97.0</td>\n",
       "    </tr>\n",
       "  </tbody>\n",
       "</table>\n",
       "</div>"
      ],
      "text/plain": [
       "      Date  Active energy burned(Cal)  Apple Watch stand hours(hr)  \\\n",
       "0  2020-06                    32563.0                        519.0   \n",
       "1  2020-07                    33837.0                        506.0   \n",
       "2  2020-08                    33936.0                        480.0   \n",
       "3  2020-09                    31957.0                        477.0   \n",
       "4  2020-10                    26645.0                        470.0   \n",
       "\n",
       "   Basal energy burned(Cal)  Exercise time(min)  Flights climbed(count)  \\\n",
       "0                   70145.0              1771.0                    40.0   \n",
       "1                   72420.0              2026.0                    98.0   \n",
       "2                   70661.0              2185.0                   150.0   \n",
       "3                   68383.0              1904.0                   232.0   \n",
       "4                   67710.0              1455.0                    69.0   \n",
       "\n",
       "   Heart rate(count/min)  Resting heart rate(count/min)  Stand time(min)  \\\n",
       "0                   84.0                           57.0           5448.0   \n",
       "1                   85.0                           58.0           5168.0   \n",
       "2                   85.0                           60.0           4939.0   \n",
       "3                   88.0                           61.0           5772.0   \n",
       "4                   76.0                           58.0           3969.0   \n",
       "\n",
       "   Step count(count)  Walking heart rate average(count/min)  \n",
       "0           342345.0                                  108.0  \n",
       "1           362908.0                                  109.0  \n",
       "2           300142.0                                  103.0  \n",
       "3           398574.0                                  114.0  \n",
       "4           242276.0                                   97.0  "
      ]
     },
     "execution_count": 139,
     "metadata": {},
     "output_type": "execute_result"
    }
   ],
   "source": [
    "#Transform data to round all numbers to .0\n",
    "health_data_2year_dataframe = health_data_2year.round()\n",
    "health_data_2year_dataframe.head()"
   ]
  },
  {
   "cell_type": "markdown",
   "metadata": {},
   "source": [
    "<h3 style=\"font-size:3rm;color:orange;\">Analyze Data - Active Energy Burned (calories)</h3>\n",
    "Active Energy Burned is an estimate of the calories you burn over the course of a time period through exercise or other activity."
   ]
  },
  {
   "cell_type": "code",
   "execution_count": 140,
   "metadata": {},
   "outputs": [
    {
     "data": {
      "text/html": [
       "<div>\n",
       "<style scoped>\n",
       "    .dataframe tbody tr th:only-of-type {\n",
       "        vertical-align: middle;\n",
       "    }\n",
       "\n",
       "    .dataframe tbody tr th {\n",
       "        vertical-align: top;\n",
       "    }\n",
       "\n",
       "    .dataframe thead th {\n",
       "        text-align: right;\n",
       "    }\n",
       "</style>\n",
       "<table border=\"1\" class=\"dataframe\">\n",
       "  <thead>\n",
       "    <tr style=\"text-align: right;\">\n",
       "      <th></th>\n",
       "      <th>Active energy burned(Cal)</th>\n",
       "    </tr>\n",
       "    <tr>\n",
       "      <th>Date</th>\n",
       "      <th></th>\n",
       "    </tr>\n",
       "  </thead>\n",
       "  <tbody>\n",
       "    <tr>\n",
       "      <th>2020-06</th>\n",
       "      <td>32563.0</td>\n",
       "    </tr>\n",
       "    <tr>\n",
       "      <th>2020-07</th>\n",
       "      <td>33837.0</td>\n",
       "    </tr>\n",
       "    <tr>\n",
       "      <th>2020-08</th>\n",
       "      <td>33936.0</td>\n",
       "    </tr>\n",
       "    <tr>\n",
       "      <th>2020-09</th>\n",
       "      <td>31957.0</td>\n",
       "    </tr>\n",
       "    <tr>\n",
       "      <th>2020-10</th>\n",
       "      <td>26645.0</td>\n",
       "    </tr>\n",
       "    <tr>\n",
       "      <th>2020-11</th>\n",
       "      <td>26924.0</td>\n",
       "    </tr>\n",
       "    <tr>\n",
       "      <th>2020-12</th>\n",
       "      <td>28943.0</td>\n",
       "    </tr>\n",
       "    <tr>\n",
       "      <th>2021-01</th>\n",
       "      <td>24709.0</td>\n",
       "    </tr>\n",
       "    <tr>\n",
       "      <th>2021-02</th>\n",
       "      <td>24952.0</td>\n",
       "    </tr>\n",
       "    <tr>\n",
       "      <th>2021-03</th>\n",
       "      <td>25437.0</td>\n",
       "    </tr>\n",
       "    <tr>\n",
       "      <th>2021-04</th>\n",
       "      <td>26634.0</td>\n",
       "    </tr>\n",
       "    <tr>\n",
       "      <th>2021-05</th>\n",
       "      <td>29117.0</td>\n",
       "    </tr>\n",
       "    <tr>\n",
       "      <th>2021-06</th>\n",
       "      <td>25993.0</td>\n",
       "    </tr>\n",
       "    <tr>\n",
       "      <th>2021-07</th>\n",
       "      <td>26834.0</td>\n",
       "    </tr>\n",
       "    <tr>\n",
       "      <th>2021-08</th>\n",
       "      <td>27008.0</td>\n",
       "    </tr>\n",
       "    <tr>\n",
       "      <th>2021-09</th>\n",
       "      <td>25421.0</td>\n",
       "    </tr>\n",
       "    <tr>\n",
       "      <th>2021-10</th>\n",
       "      <td>26048.0</td>\n",
       "    </tr>\n",
       "    <tr>\n",
       "      <th>2021-11</th>\n",
       "      <td>22341.0</td>\n",
       "    </tr>\n",
       "    <tr>\n",
       "      <th>2021-12</th>\n",
       "      <td>21615.0</td>\n",
       "    </tr>\n",
       "    <tr>\n",
       "      <th>2022-01</th>\n",
       "      <td>22828.0</td>\n",
       "    </tr>\n",
       "    <tr>\n",
       "      <th>2022-02</th>\n",
       "      <td>22181.0</td>\n",
       "    </tr>\n",
       "    <tr>\n",
       "      <th>2022-03</th>\n",
       "      <td>23781.0</td>\n",
       "    </tr>\n",
       "    <tr>\n",
       "      <th>2022-04</th>\n",
       "      <td>22326.0</td>\n",
       "    </tr>\n",
       "    <tr>\n",
       "      <th>2022-05</th>\n",
       "      <td>25173.0</td>\n",
       "    </tr>\n",
       "  </tbody>\n",
       "</table>\n",
       "</div>"
      ],
      "text/plain": [
       "         Active energy burned(Cal)\n",
       "Date                              \n",
       "2020-06                    32563.0\n",
       "2020-07                    33837.0\n",
       "2020-08                    33936.0\n",
       "2020-09                    31957.0\n",
       "2020-10                    26645.0\n",
       "2020-11                    26924.0\n",
       "2020-12                    28943.0\n",
       "2021-01                    24709.0\n",
       "2021-02                    24952.0\n",
       "2021-03                    25437.0\n",
       "2021-04                    26634.0\n",
       "2021-05                    29117.0\n",
       "2021-06                    25993.0\n",
       "2021-07                    26834.0\n",
       "2021-08                    27008.0\n",
       "2021-09                    25421.0\n",
       "2021-10                    26048.0\n",
       "2021-11                    22341.0\n",
       "2021-12                    21615.0\n",
       "2022-01                    22828.0\n",
       "2022-02                    22181.0\n",
       "2022-03                    23781.0\n",
       "2022-04                    22326.0\n",
       "2022-05                    25173.0"
      ]
     },
     "execution_count": 140,
     "metadata": {},
     "output_type": "execute_result"
    }
   ],
   "source": [
    "#Isolate monthly date range and monthly active energy burned data.\n",
    "round(pd.pivot_table(health_data_2year, index=[\"Date\"], values=[\"Active energy burned(Cal)\"], aggfunc=np.sum))"
   ]
  },
  {
   "cell_type": "code",
   "execution_count": 141,
   "metadata": {},
   "outputs": [
    {
     "name": "stdout",
     "output_type": "stream",
     "text": [
      "26020.5\n"
     ]
    }
   ],
   "source": [
    "#Calculate the median of Active energy burned(calories). Save information as a varisable 'median_active_eng_burned'.\n",
    "median_active_eng_burned = health_data_2year_dataframe['Active energy burned(Cal)'].median()\n",
    "print(median_active_eng_burned)"
   ]
  },
  {
   "cell_type": "code",
   "execution_count": 142,
   "metadata": {},
   "outputs": [
    {
     "name": "stdout",
     "output_type": "stream",
     "text": [
      "21615.0\n"
     ]
    }
   ],
   "source": [
    "#Find the minimum of Active energy burned(calories). Save information as a variable 'min_active_eng_burned'.\n",
    "min_active_eng_burned = health_data_2year_dataframe['Active energy burned(Cal)'].min()\n",
    "print(min_active_eng_burned)"
   ]
  },
  {
   "cell_type": "code",
   "execution_count": 143,
   "metadata": {},
   "outputs": [
    {
     "name": "stdout",
     "output_type": "stream",
     "text": [
      "33936.0\n"
     ]
    }
   ],
   "source": [
    "#Find the maximum of Active energy burned(calories). Save informaiton as a variable 'max_active_eng_burned'.\n",
    "max_active_eng_burned = health_data_2year_dataframe['Active energy burned(Cal)'].max()\n",
    "print(max_active_eng_burned)"
   ]
  },
  {
   "cell_type": "markdown",
   "metadata": {},
   "source": [
    "Use of <b>Matplotlib</b> to create Plot graph."
   ]
  },
  {
   "cell_type": "code",
   "execution_count": 144,
   "metadata": {},
   "outputs": [],
   "source": [
    "from matplotlib import pyplot as plt"
   ]
  },
  {
   "cell_type": "code",
   "execution_count": 145,
   "metadata": {},
   "outputs": [
    {
     "data": {
      "image/png": "[encoded data removed]",
      "text/plain": [
       "<Figure size 864x432 with 1 Axes>"
      ]
     },
     "metadata": {
      "needs_background": "light"
     },
     "output_type": "display_data"
    }
   ],
   "source": [
    "#Plot the 2-year period (in months) of Active Energy Burned (calories)\n",
    "plt.figure(figsize = (12, 6))\n",
    "plt.plot(health_data_2year_dataframe['Date'], health_data_2year_dataframe['Active energy burned(Cal)'], marker = 's', color = \"green\")\n",
    "plt.xlabel(\"Month\", labelpad=10)\n",
    "plt.ylabel(\"Calories\", labelpad=10)\n",
    "plt.xticks(rotation=\"vertical\")\n",
    "plt.title(\"Active Energy Burned\", fontsize=20)\n",
    "plt.show()"
   ]
  },
  {
   "cell_type": "markdown",
   "metadata": {},
   "source": [
    "<h3 style=\"font-size: 2rm;color:green;\">Interpretation of Active Energy Burned data:</h3>\n",
    "During the 2-year period of June 2021 - June 2022, the min calories burned were 21,615. The median calories burned were 26,020 and the max calories burned were 33,936. "
   ]
  },
  {
   "cell_type": "markdown",
   "metadata": {},
   "source": [
    "<h3 style=\"font-size:3rm;color:orange;\">Analyze Data - Exercise Time (minutes)</h3>\n"
   ]
  },
  {
   "cell_type": "code",
   "execution_count": 146,
   "metadata": {},
   "outputs": [
    {
     "data": {
      "text/html": [
       "<div>\n",
       "<style scoped>\n",
       "    .dataframe tbody tr th:only-of-type {\n",
       "        vertical-align: middle;\n",
       "    }\n",
       "\n",
       "    .dataframe tbody tr th {\n",
       "        vertical-align: top;\n",
       "    }\n",
       "\n",
       "    .dataframe thead th {\n",
       "        text-align: right;\n",
       "    }\n",
       "</style>\n",
       "<table border=\"1\" class=\"dataframe\">\n",
       "  <thead>\n",
       "    <tr style=\"text-align: right;\">\n",
       "      <th></th>\n",
       "      <th>Exercise time(min)</th>\n",
       "    </tr>\n",
       "    <tr>\n",
       "      <th>Date</th>\n",
       "      <th></th>\n",
       "    </tr>\n",
       "  </thead>\n",
       "  <tbody>\n",
       "    <tr>\n",
       "      <th>2020-06</th>\n",
       "      <td>1771.0</td>\n",
       "    </tr>\n",
       "    <tr>\n",
       "      <th>2020-07</th>\n",
       "      <td>2026.0</td>\n",
       "    </tr>\n",
       "    <tr>\n",
       "      <th>2020-08</th>\n",
       "      <td>2185.0</td>\n",
       "    </tr>\n",
       "    <tr>\n",
       "      <th>2020-09</th>\n",
       "      <td>1904.0</td>\n",
       "    </tr>\n",
       "    <tr>\n",
       "      <th>2020-10</th>\n",
       "      <td>1455.0</td>\n",
       "    </tr>\n",
       "    <tr>\n",
       "      <th>2020-11</th>\n",
       "      <td>1222.0</td>\n",
       "    </tr>\n",
       "    <tr>\n",
       "      <th>2020-12</th>\n",
       "      <td>1313.0</td>\n",
       "    </tr>\n",
       "    <tr>\n",
       "      <th>2021-01</th>\n",
       "      <td>1193.0</td>\n",
       "    </tr>\n",
       "    <tr>\n",
       "      <th>2021-02</th>\n",
       "      <td>1147.0</td>\n",
       "    </tr>\n",
       "    <tr>\n",
       "      <th>2021-03</th>\n",
       "      <td>1205.0</td>\n",
       "    </tr>\n",
       "    <tr>\n",
       "      <th>2021-04</th>\n",
       "      <td>1311.0</td>\n",
       "    </tr>\n",
       "    <tr>\n",
       "      <th>2021-05</th>\n",
       "      <td>1547.0</td>\n",
       "    </tr>\n",
       "    <tr>\n",
       "      <th>2021-06</th>\n",
       "      <td>1226.0</td>\n",
       "    </tr>\n",
       "    <tr>\n",
       "      <th>2021-07</th>\n",
       "      <td>1214.0</td>\n",
       "    </tr>\n",
       "    <tr>\n",
       "      <th>2021-08</th>\n",
       "      <td>1265.0</td>\n",
       "    </tr>\n",
       "    <tr>\n",
       "      <th>2021-09</th>\n",
       "      <td>1230.0</td>\n",
       "    </tr>\n",
       "    <tr>\n",
       "      <th>2021-10</th>\n",
       "      <td>801.0</td>\n",
       "    </tr>\n",
       "    <tr>\n",
       "      <th>2021-11</th>\n",
       "      <td>605.0</td>\n",
       "    </tr>\n",
       "    <tr>\n",
       "      <th>2021-12</th>\n",
       "      <td>361.0</td>\n",
       "    </tr>\n",
       "    <tr>\n",
       "      <th>2022-01</th>\n",
       "      <td>656.0</td>\n",
       "    </tr>\n",
       "    <tr>\n",
       "      <th>2022-02</th>\n",
       "      <td>792.0</td>\n",
       "    </tr>\n",
       "    <tr>\n",
       "      <th>2022-03</th>\n",
       "      <td>916.0</td>\n",
       "    </tr>\n",
       "    <tr>\n",
       "      <th>2022-04</th>\n",
       "      <td>864.0</td>\n",
       "    </tr>\n",
       "    <tr>\n",
       "      <th>2022-05</th>\n",
       "      <td>1047.0</td>\n",
       "    </tr>\n",
       "  </tbody>\n",
       "</table>\n",
       "</div>"
      ],
      "text/plain": [
       "         Exercise time(min)\n",
       "Date                       \n",
       "2020-06              1771.0\n",
       "2020-07              2026.0\n",
       "2020-08              2185.0\n",
       "2020-09              1904.0\n",
       "2020-10              1455.0\n",
       "2020-11              1222.0\n",
       "2020-12              1313.0\n",
       "2021-01              1193.0\n",
       "2021-02              1147.0\n",
       "2021-03              1205.0\n",
       "2021-04              1311.0\n",
       "2021-05              1547.0\n",
       "2021-06              1226.0\n",
       "2021-07              1214.0\n",
       "2021-08              1265.0\n",
       "2021-09              1230.0\n",
       "2021-10               801.0\n",
       "2021-11               605.0\n",
       "2021-12               361.0\n",
       "2022-01               656.0\n",
       "2022-02               792.0\n",
       "2022-03               916.0\n",
       "2022-04               864.0\n",
       "2022-05              1047.0"
      ]
     },
     "execution_count": 146,
     "metadata": {},
     "output_type": "execute_result"
    }
   ],
   "source": [
    "#Isolate monthly date range and monthly exercise time data.\n",
    "round(pd.pivot_table(health_data_2year, index=[\"Date\"], values=[\"Exercise time(min)\"], aggfunc=np.sum))"
   ]
  },
  {
   "cell_type": "markdown",
   "metadata": {},
   "source": [
    "Use of <b>Matplotlib</b> to create scatter graph."
   ]
  },
  {
   "cell_type": "code",
   "execution_count": 147,
   "metadata": {},
   "outputs": [
    {
     "data": {
      "image/png": "[encoded data removed]",
      "text/plain": [
       "<Figure size 864x432 with 1 Axes>"
      ]
     },
     "metadata": {
      "needs_background": "light"
     },
     "output_type": "display_data"
    }
   ],
   "source": [
    "#Plot the 2-year period (in months) of Exercise Time (minutes)\n",
    "plt.figure(figsize = (12, 6))\n",
    "plt.scatter(health_data_2year_dataframe['Date'], health_data_2year_dataframe['Exercise time(min)'], color = \"green\")\n",
    "plt.xlabel(\"Month\", labelpad=10)\n",
    "plt.ylabel(\"Minutes\", labelpad=10)\n",
    "plt.xticks(rotation=\"vertical\")\n",
    "plt.title(\"Exercise Time\", fontsize=20)\n",
    "plt.show()"
   ]
  },
  {
   "cell_type": "code",
   "execution_count": 148,
   "metadata": {},
   "outputs": [
    {
     "name": "stdout",
     "output_type": "stream",
     "text": [
      "29256.0\n"
     ]
    }
   ],
   "source": [
    "#Calculate the sum of exercise time (minutes). Save information as a variable 'sum_exercise_time'.\n",
    "sum_exercise_time = health_data_2year_dataframe['Exercise time(min)'].sum()\n",
    "print(sum_exercise_time)"
   ]
  },
  {
   "cell_type": "code",
   "execution_count": 149,
   "metadata": {},
   "outputs": [
    {
     "name": "stdout",
     "output_type": "stream",
     "text": [
      "487.6\n"
     ]
    }
   ],
   "source": [
    "#Convert exercise time sum from minutes to hours.\n",
    "hours_exercise_time = sum_exercise_time/60\n",
    "print(hours_exercise_time)"
   ]
  },
  {
   "cell_type": "code",
   "execution_count": 150,
   "metadata": {},
   "outputs": [
    {
     "name": "stdout",
     "output_type": "stream",
     "text": [
      "20.316666666666666\n"
     ]
    }
   ],
   "source": [
    "#Convert exercise time sum from hours to days.\n",
    "days_exercise_time = hours_exercise_time/24\n",
    "print(days_exercise_time)"
   ]
  },
  {
   "cell_type": "markdown",
   "metadata": {},
   "source": [
    "<h3 style=\"font-size: 2rm;color:green;\">Interpretation of Exercise time data:</h3>\n",
    "During the 2-year period of June 2021 - June 2022, the total exercise time was 29,256 minutes which is equal to 487.6 hours, or a total of 20 days."
   ]
  },
  {
   "cell_type": "markdown",
   "metadata": {},
   "source": [
    "<h3 style=\"font-size:3rm;color:orange;\">Compare Data - Heart Rate vs. Resting Heart Rate</h3>"
   ]
  },
  {
   "cell_type": "code",
   "execution_count": 151,
   "metadata": {},
   "outputs": [
    {
     "data": {
      "text/html": [
       "<div>\n",
       "<style scoped>\n",
       "    .dataframe tbody tr th:only-of-type {\n",
       "        vertical-align: middle;\n",
       "    }\n",
       "\n",
       "    .dataframe tbody tr th {\n",
       "        vertical-align: top;\n",
       "    }\n",
       "\n",
       "    .dataframe thead th {\n",
       "        text-align: right;\n",
       "    }\n",
       "</style>\n",
       "<table border=\"1\" class=\"dataframe\">\n",
       "  <thead>\n",
       "    <tr style=\"text-align: right;\">\n",
       "      <th></th>\n",
       "      <th>Heart rate(count/min)</th>\n",
       "      <th>Resting heart rate(count/min)</th>\n",
       "    </tr>\n",
       "    <tr>\n",
       "      <th>Date</th>\n",
       "      <th></th>\n",
       "      <th></th>\n",
       "    </tr>\n",
       "  </thead>\n",
       "  <tbody>\n",
       "    <tr>\n",
       "      <th>2020-06</th>\n",
       "      <td>84.0</td>\n",
       "      <td>57.0</td>\n",
       "    </tr>\n",
       "    <tr>\n",
       "      <th>2020-07</th>\n",
       "      <td>85.0</td>\n",
       "      <td>58.0</td>\n",
       "    </tr>\n",
       "    <tr>\n",
       "      <th>2020-08</th>\n",
       "      <td>85.0</td>\n",
       "      <td>60.0</td>\n",
       "    </tr>\n",
       "    <tr>\n",
       "      <th>2020-09</th>\n",
       "      <td>88.0</td>\n",
       "      <td>61.0</td>\n",
       "    </tr>\n",
       "    <tr>\n",
       "      <th>2020-10</th>\n",
       "      <td>76.0</td>\n",
       "      <td>58.0</td>\n",
       "    </tr>\n",
       "    <tr>\n",
       "      <th>2020-11</th>\n",
       "      <td>78.0</td>\n",
       "      <td>59.0</td>\n",
       "    </tr>\n",
       "    <tr>\n",
       "      <th>2020-12</th>\n",
       "      <td>78.0</td>\n",
       "      <td>60.0</td>\n",
       "    </tr>\n",
       "    <tr>\n",
       "      <th>2021-01</th>\n",
       "      <td>74.0</td>\n",
       "      <td>56.0</td>\n",
       "    </tr>\n",
       "    <tr>\n",
       "      <th>2021-02</th>\n",
       "      <td>82.0</td>\n",
       "      <td>65.0</td>\n",
       "    </tr>\n",
       "    <tr>\n",
       "      <th>2021-03</th>\n",
       "      <td>82.0</td>\n",
       "      <td>61.0</td>\n",
       "    </tr>\n",
       "    <tr>\n",
       "      <th>2021-04</th>\n",
       "      <td>80.0</td>\n",
       "      <td>58.0</td>\n",
       "    </tr>\n",
       "    <tr>\n",
       "      <th>2021-05</th>\n",
       "      <td>81.0</td>\n",
       "      <td>58.0</td>\n",
       "    </tr>\n",
       "    <tr>\n",
       "      <th>2021-06</th>\n",
       "      <td>80.0</td>\n",
       "      <td>59.0</td>\n",
       "    </tr>\n",
       "    <tr>\n",
       "      <th>2021-07</th>\n",
       "      <td>76.0</td>\n",
       "      <td>56.0</td>\n",
       "    </tr>\n",
       "    <tr>\n",
       "      <th>2021-08</th>\n",
       "      <td>77.0</td>\n",
       "      <td>56.0</td>\n",
       "    </tr>\n",
       "    <tr>\n",
       "      <th>2021-09</th>\n",
       "      <td>77.0</td>\n",
       "      <td>57.0</td>\n",
       "    </tr>\n",
       "    <tr>\n",
       "      <th>2021-10</th>\n",
       "      <td>78.0</td>\n",
       "      <td>61.0</td>\n",
       "    </tr>\n",
       "    <tr>\n",
       "      <th>2021-11</th>\n",
       "      <td>78.0</td>\n",
       "      <td>63.0</td>\n",
       "    </tr>\n",
       "    <tr>\n",
       "      <th>2021-12</th>\n",
       "      <td>78.0</td>\n",
       "      <td>61.0</td>\n",
       "    </tr>\n",
       "    <tr>\n",
       "      <th>2022-01</th>\n",
       "      <td>78.0</td>\n",
       "      <td>62.0</td>\n",
       "    </tr>\n",
       "    <tr>\n",
       "      <th>2022-02</th>\n",
       "      <td>79.0</td>\n",
       "      <td>59.0</td>\n",
       "    </tr>\n",
       "    <tr>\n",
       "      <th>2022-03</th>\n",
       "      <td>79.0</td>\n",
       "      <td>59.0</td>\n",
       "    </tr>\n",
       "    <tr>\n",
       "      <th>2022-04</th>\n",
       "      <td>75.0</td>\n",
       "      <td>59.0</td>\n",
       "    </tr>\n",
       "    <tr>\n",
       "      <th>2022-05</th>\n",
       "      <td>76.0</td>\n",
       "      <td>59.0</td>\n",
       "    </tr>\n",
       "  </tbody>\n",
       "</table>\n",
       "</div>"
      ],
      "text/plain": [
       "         Heart rate(count/min)  Resting heart rate(count/min)\n",
       "Date                                                         \n",
       "2020-06                   84.0                           57.0\n",
       "2020-07                   85.0                           58.0\n",
       "2020-08                   85.0                           60.0\n",
       "2020-09                   88.0                           61.0\n",
       "2020-10                   76.0                           58.0\n",
       "2020-11                   78.0                           59.0\n",
       "2020-12                   78.0                           60.0\n",
       "2021-01                   74.0                           56.0\n",
       "2021-02                   82.0                           65.0\n",
       "2021-03                   82.0                           61.0\n",
       "2021-04                   80.0                           58.0\n",
       "2021-05                   81.0                           58.0\n",
       "2021-06                   80.0                           59.0\n",
       "2021-07                   76.0                           56.0\n",
       "2021-08                   77.0                           56.0\n",
       "2021-09                   77.0                           57.0\n",
       "2021-10                   78.0                           61.0\n",
       "2021-11                   78.0                           63.0\n",
       "2021-12                   78.0                           61.0\n",
       "2022-01                   78.0                           62.0\n",
       "2022-02                   79.0                           59.0\n",
       "2022-03                   79.0                           59.0\n",
       "2022-04                   75.0                           59.0\n",
       "2022-05                   76.0                           59.0"
      ]
     },
     "execution_count": 151,
     "metadata": {},
     "output_type": "execute_result"
    }
   ],
   "source": [
    "#Isolate monthly date range, heart rate and resting heart rate data.\n",
    "round(pd.pivot_table(health_data_2year, index=[\"Date\"], values=[\"Heart rate(count/min)\",\"Resting heart rate(count/min)\"], aggfunc=np.sum))"
   ]
  },
  {
   "cell_type": "code",
   "execution_count": 152,
   "metadata": {},
   "outputs": [
    {
     "data": {
      "text/html": [
       "<div>\n",
       "<style scoped>\n",
       "    .dataframe tbody tr th:only-of-type {\n",
       "        vertical-align: middle;\n",
       "    }\n",
       "\n",
       "    .dataframe tbody tr th {\n",
       "        vertical-align: top;\n",
       "    }\n",
       "\n",
       "    .dataframe thead th {\n",
       "        text-align: right;\n",
       "    }\n",
       "</style>\n",
       "<table border=\"1\" class=\"dataframe\">\n",
       "  <thead>\n",
       "    <tr style=\"text-align: right;\">\n",
       "      <th></th>\n",
       "      <th>Heart rate(count/min)</th>\n",
       "      <th>Resting heart rate(count/min)</th>\n",
       "    </tr>\n",
       "    <tr>\n",
       "      <th>Date</th>\n",
       "      <th></th>\n",
       "      <th></th>\n",
       "    </tr>\n",
       "  </thead>\n",
       "  <tbody>\n",
       "    <tr>\n",
       "      <th>2020-06</th>\n",
       "      <td>83.686</td>\n",
       "      <td>57.467</td>\n",
       "    </tr>\n",
       "    <tr>\n",
       "      <th>2020-07</th>\n",
       "      <td>85.217</td>\n",
       "      <td>58.065</td>\n",
       "    </tr>\n",
       "    <tr>\n",
       "      <th>2020-08</th>\n",
       "      <td>85.162</td>\n",
       "      <td>60.188</td>\n",
       "    </tr>\n",
       "    <tr>\n",
       "      <th>2020-09</th>\n",
       "      <td>88.482</td>\n",
       "      <td>60.733</td>\n",
       "    </tr>\n",
       "    <tr>\n",
       "      <th>2020-10</th>\n",
       "      <td>76.347</td>\n",
       "      <td>57.677</td>\n",
       "    </tr>\n",
       "  </tbody>\n",
       "</table>\n",
       "</div>"
      ],
      "text/plain": [
       "         Heart rate(count/min)  Resting heart rate(count/min)\n",
       "Date                                                         \n",
       "2020-06                 83.686                         57.467\n",
       "2020-07                 85.217                         58.065\n",
       "2020-08                 85.162                         60.188\n",
       "2020-09                 88.482                         60.733\n",
       "2020-10                 76.347                         57.677"
      ]
     },
     "execution_count": 152,
     "metadata": {},
     "output_type": "execute_result"
    }
   ],
   "source": [
    "#Create new variable \"rateCompare\" which consists of only three areas of data from original dataframe.\n",
    "rateCompare = pd.pivot_table(health_data_2year, index=[\"Date\"], values=[\"Heart rate(count/min)\",\"Resting heart rate(count/min)\"], aggfunc=np.sum)\n",
    "rateCompare.head()"
   ]
  },
  {
   "cell_type": "code",
   "execution_count": 153,
   "metadata": {},
   "outputs": [
    {
     "data": {
      "text/plain": [
       "pandas.core.frame.DataFrame"
      ]
     },
     "execution_count": 153,
     "metadata": {},
     "output_type": "execute_result"
    }
   ],
   "source": [
    "#Confirm my new variable \"rateCompare\" is indeed a DataFrame\n",
    "type(rateCompare)"
   ]
  },
  {
   "cell_type": "code",
   "execution_count": 155,
   "metadata": {},
   "outputs": [
    {
     "data": {
      "text/plain": [
       "<AxesSubplot:title={'center':'Heart Rate vs. Resting Heart Rate'}, xlabel='Date'>"
      ]
     },
     "execution_count": 155,
     "metadata": {},
     "output_type": "execute_result"
    },
    {
     "data": {
      "image/png": "[encoded data removed]",
      "text/plain": [
       "<Figure size 432x288 with 1 Axes>"
      ]
     },
     "metadata": {
      "needs_background": "light"
     },
     "output_type": "display_data"
    }
   ],
   "source": [
    "#Visualize rateCompare\n",
    "rateCompare.plot(kind=\"line\",title=\"Heart Rate vs. Resting Heart Rate\")"
   ]
  },
  {
   "cell_type": "markdown",
   "metadata": {},
   "source": [
    "## The End :)"
   ]
  }
 ],
 "metadata": {
  "kernelspec": {
   "display_name": "Python 3.9.7 ('base')",
   "language": "python",
   "name": "python3"
  },
  "language_info": {
   "codemirror_mode": {
    "name": "ipython",
    "version": 3
   },
   "file_extension": ".py",
   "mimetype": "text/x-python",
   "name": "python",
   "nbconvert_exporter": "python",
   "pygments_lexer": "ipython3",
   "version": "3.9.7"
  },
  "orig_nbformat": 4,
  "vscode": {
   "interpreter": {
    "hash": "4c3cd3e7647e7c8a173078ea3a0aed229ad280df7dae4f367f525a49f0355521"
   }
  }
 },
 "nbformat": 4,
 "nbformat_minor": 2
}
