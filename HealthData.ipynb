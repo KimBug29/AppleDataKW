{
 "cells": [
  {
   "cell_type": "markdown",
   "metadata": {},
   "source": [
    "<h1 style=\"font-size:3rm;color:green;\">Jupyter Notebook Health Data</h1>"
   ]
  },
  {
   "cell_type": "markdown",
   "metadata": {},
   "source": [
    "<img src=kim-health-data.png>"
   ]
  },
  {
   "cell_type": "markdown",
   "metadata": {},
   "source": [
    "<h4 style=\"font-size:1rm;color:green;\">This notebook contains Kim Wolf's Apple Health Data (Active Energy Burned) for 2 years. Time period of June 1, 2020 - June 1, 2022.</h4>\n"
   ]
  },
  {
   "cell_type": "markdown",
   "metadata": {},
   "source": [
    "## Import Health Data using Pandas"
   ]
  },
  {
   "cell_type": "code",
   "execution_count": 9,
   "metadata": {},
   "outputs": [
    {
     "name": "stdout",
     "output_type": "stream",
     "text": [
      "       Date  Active energy burned(Cal)  Apple Watch stand hours(hr)  \\\n",
      "0   2020-06                  32562.605                        519.0   \n",
      "1   2020-07                  33837.342                        506.0   \n",
      "2   2020-08                  33936.205                        480.0   \n",
      "3   2020-09                  31957.453                        477.0   \n",
      "4   2020-10                  26645.052                        470.0   \n",
      "5   2020-11                  26924.321                        474.0   \n",
      "6   2020-12                  28942.727                        488.0   \n",
      "7   2021-01                  24709.342                        476.0   \n",
      "8   2021-02                  24951.997                        446.0   \n",
      "9   2021-03                  25436.955                        478.0   \n",
      "10  2021-04                  26633.878                        481.0   \n",
      "11  2021-05                  29117.373                        500.0   \n",
      "12  2021-06                  25993.214                        470.0   \n",
      "13  2021-07                  26833.770                        490.0   \n",
      "14  2021-08                  27008.358                        499.0   \n",
      "15  2021-09                  25420.707                        481.0   \n",
      "16  2021-10                  26048.098                        496.0   \n",
      "17  2021-11                  22340.581                        448.0   \n",
      "18  2021-12                  21614.684                        462.0   \n",
      "19  2022-01                  22827.871                        480.0   \n",
      "20  2022-02                  22180.514                        441.0   \n",
      "21  2022-03                  23780.790                        477.0   \n",
      "22  2022-04                  22325.538                        459.0   \n",
      "23  2022-05                  25172.677                        481.0   \n",
      "24  2022-06                  17327.638                        314.0   \n",
      "\n",
      "    Basal energy burned(Cal)  Exercise time(min)  Flights climbed(count)  \\\n",
      "0                  70145.420              1771.0                  40.470   \n",
      "1                  72420.122              2026.0                  98.171   \n",
      "2                  70660.916              2185.0                 150.113   \n",
      "3                  68383.441              1904.0                 232.420   \n",
      "4                  67709.706              1455.0                  69.000   \n",
      "5                  66332.526              1222.0                 180.753   \n",
      "6                  70654.504              1313.0                 157.948   \n",
      "7                  68886.440              1193.0                  42.000   \n",
      "8                  62236.693              1147.0                 105.393   \n",
      "9                  66727.242              1205.0                 124.175   \n",
      "10                 66307.105              1311.0                 123.000   \n",
      "11                 69431.787              1547.0                 182.987   \n",
      "12                 66404.729              1226.0                 140.000   \n",
      "13                 68365.374              1214.0                 174.639   \n",
      "14                 68084.223              1265.0                  85.000   \n",
      "15                 65702.146              1230.0                  61.000   \n",
      "16                 69681.274               801.0                 112.970   \n",
      "17                 65958.619               605.0                  79.000   \n",
      "18                 67785.772               361.0                 191.000   \n",
      "19                 68165.271               656.0                 135.000   \n",
      "20                 62475.344               792.0                  87.980   \n",
      "21                 68582.848               916.0                  97.910   \n",
      "22                 66658.412               864.0                 148.417   \n",
      "23                 71165.668              1047.0                 131.162   \n",
      "24                 47783.997               761.0                  51.165   \n",
      "\n",
      "    Heart rate(count/min)  Resting heart rate(count/min)  Stand time(min)  \\\n",
      "0                  83.686                         57.467           5448.0   \n",
      "1                  85.217                         58.065           5168.0   \n",
      "2                  85.162                         60.188           4939.0   \n",
      "3                  88.482                         60.733           5772.0   \n",
      "4                  76.347                         57.677           3969.0   \n",
      "5                  77.789                         58.767           4619.0   \n",
      "6                  77.602                         59.968           4458.0   \n",
      "7                  74.373                         55.935           3455.0   \n",
      "8                  82.425                         65.107           3569.2   \n",
      "9                  82.199                         61.419           3666.0   \n",
      "10                 79.595                         58.133           4088.0   \n",
      "11                 81.027                         57.742           4874.0   \n",
      "12                 80.495                         58.900           4327.0   \n",
      "13                 76.236                         55.710           4919.0   \n",
      "14                 77.263                         56.032           4850.0   \n",
      "15                 77.441                         57.433           4385.0   \n",
      "16                 78.233                         61.065           4434.0   \n",
      "17                 77.748                         62.833           3560.0   \n",
      "18                 77.941                         61.000           4283.0   \n",
      "19                 78.160                         61.677           3792.0   \n",
      "20                 78.626                         58.714           3795.0   \n",
      "21                 78.843                         59.290           4130.0   \n",
      "22                 75.053                         59.067           3551.0   \n",
      "23                 75.863                         58.548           4411.0   \n",
      "24                 81.334                         58.810           2778.0   \n",
      "\n",
      "    Step count(count)  Walking heart rate average(count/min)  \n",
      "0          342345.273                                108.483  \n",
      "1          362907.978                                108.806  \n",
      "2          300141.779                                102.565  \n",
      "3          398573.937                                114.017  \n",
      "4          242276.382                                 97.016  \n",
      "5          279412.840                                 98.650  \n",
      "6          241808.878                                 95.887  \n",
      "7          190243.740                                 98.968  \n",
      "8          211254.804                                103.429  \n",
      "9          255173.744                                110.661  \n",
      "10         269886.163                                105.233  \n",
      "11         278528.199                                 97.435  \n",
      "12         243918.000                                107.850  \n",
      "13         261263.736                                 97.468  \n",
      "14         269986.921                                 97.419  \n",
      "15         211644.250                                 94.800  \n",
      "16         240974.170                                102.210  \n",
      "17         187380.035                                102.433  \n",
      "18         231245.100                                 99.629  \n",
      "19         213974.845                                105.226  \n",
      "20         221713.451                                112.393  \n",
      "21         235776.132                                112.919  \n",
      "22         224706.711                                 97.533  \n",
      "23         275149.787                                101.855  \n",
      "24         173210.342                                109.881  \n"
     ]
    }
   ],
   "source": [
    "import pandas as pd\n",
    "health_data_2year = pd.read_csv(\"Export_ActiveEnergyBurned.csv\")\n",
    "print(health_data_2year)"
   ]
  },
  {
   "cell_type": "markdown",
   "metadata": {},
   "source": [
    "## Active energy burned (calories)"
   ]
  },
  {
   "cell_type": "code",
   "execution_count": null,
   "metadata": {},
   "outputs": [],
   "source": []
  },
  {
   "cell_type": "markdown",
   "metadata": {},
   "source": [
    "## Basal energy burned (calories)"
   ]
  },
  {
   "cell_type": "code",
   "execution_count": null,
   "metadata": {},
   "outputs": [],
   "source": []
  },
  {
   "cell_type": "markdown",
   "metadata": {},
   "source": [
    "## Exercise time (minutes)"
   ]
  },
  {
   "cell_type": "code",
   "execution_count": null,
   "metadata": {},
   "outputs": [],
   "source": []
  },
  {
   "cell_type": "markdown",
   "metadata": {},
   "source": [
    "## Heart rate (count/minutes)"
   ]
  },
  {
   "cell_type": "code",
   "execution_count": null,
   "metadata": {},
   "outputs": [],
   "source": []
  },
  {
   "cell_type": "markdown",
   "metadata": {},
   "source": [
    "## Resting heart rate (count/minutes)"
   ]
  },
  {
   "cell_type": "code",
   "execution_count": null,
   "metadata": {},
   "outputs": [],
   "source": []
  },
  {
   "cell_type": "markdown",
   "metadata": {},
   "source": [
    "## Walking heart rate average (count/minutes)"
   ]
  },
  {
   "cell_type": "code",
   "execution_count": null,
   "metadata": {},
   "outputs": [],
   "source": []
  },
  {
   "cell_type": "markdown",
   "metadata": {},
   "source": [
    "## Step count"
   ]
  },
  {
   "cell_type": "code",
   "execution_count": null,
   "metadata": {},
   "outputs": [],
   "source": []
  },
  {
   "cell_type": "markdown",
   "metadata": {},
   "source": [
    "## Stand time (minutes)"
   ]
  }
 ],
 "metadata": {
  "kernelspec": {
   "display_name": "Python 3.9.7 ('base')",
   "language": "python",
   "name": "python3"
  },
  "language_info": {
   "codemirror_mode": {
    "name": "ipython",
    "version": 3
   },
   "file_extension": ".py",
   "mimetype": "text/x-python",
   "name": "python",
   "nbconvert_exporter": "python",
   "pygments_lexer": "ipython3",
   "version": "3.9.7"
  },
  "orig_nbformat": 4,
  "vscode": {
   "interpreter": {
    "hash": "4c3cd3e7647e7c8a173078ea3a0aed229ad280df7dae4f367f525a49f0355521"
   }
  }
 },
 "nbformat": 4,
 "nbformat_minor": 2
}
